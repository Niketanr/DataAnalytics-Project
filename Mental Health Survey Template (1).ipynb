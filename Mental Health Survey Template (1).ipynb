{
 "cells": [
  {
   "cell_type": "code",
   "execution_count": 34,
   "metadata": {
    "id": "I1apcow5dxii"
   },
   "outputs": [],
   "source": []
  },
  {
   "cell_type": "markdown",
   "metadata": {
    "id": "vncDsAP0Gaoa"
   },
   "source": [
    "# **Project Name**    - Mental Health in Tech Survey\n",
    "\n"
   ]
  },
  {
   "cell_type": "markdown",
   "metadata": {
    "id": "beRrZCGUAJYm"
   },
   "source": [
    "##### **Project Type**    - EDA using Python\n",
    "##### **Contribution**    - Individual\n",
    "##### **Name: Niketan.R"
   ]
  },
  {
   "cell_type": "markdown",
   "metadata": {
    "id": "FJNUwmbgGyua"
   },
   "source": [
    "# **Project Summary -**"
   ]
  },
  {
   "cell_type": "markdown",
   "metadata": {
    "id": "F6v_1wHtG2nS"
   },
   "source": [
    "The project titled \"Mental Health in Tech\" focuses on analyzing employee attitudes and experiences related to mental health in the technology workplace. Using a cleaned and processed dataset from the Open Sourcing Mental Illness (OSMI) 2014 survey, the goal was to explore how geographic location influences mental health patterns and to identify key predictors that affect whether individuals seek treatment for mental health issues. The dataset consists of responses from professionals in the tech industry and includes columns such as age, gender, country, family history of mental illness, work interference, and company mental health benefits.\n"
   ]
  },
  {
   "cell_type": "markdown",
   "metadata": {
    "id": "w6K7xa23Elo4"
   },
   "source": [
    "# **GitHub Link -**"
   ]
  },
  {
   "cell_type": "markdown",
   "metadata": {
    "id": "h1o69JH3Eqqn"
   },
   "source": [
    "Provide your GitHub Link here."
   ]
  },
  {
   "cell_type": "markdown",
   "metadata": {
    "id": "yQaldy8SH6Dl"
   },
   "source": [
    "# **Problem Statement**\n"
   ]
  },
  {
   "cell_type": "markdown",
   "metadata": {
    "id": "DpeJGUA3kjGy"
   },
   "source": [
    "Despite increasing awareness of mental health issues globally, there remains a significant gap in understanding how mental health is perceived and supported within the technology industry. Employees in tech roles often face high stress, long hours, and work-related pressure, yet many hesitate to seek help due to stigma, lack of support, or fear of negative consequences in the workplace. There is also limited insight into how geographic location, company size, gender, and internal policies influence these attitudes and behaviors.\n",
    "This project seeks to identify the strongest predictors of mental health treatment, uncover geographic trends, and highlight workplace elements that either support or hinder mental well-being in the tech industry."
   ]
  },
  {
   "cell_type": "markdown",
   "metadata": {
    "id": "PH-0ReGfmX4f"
   },
   "source": [
    "#### **Define Your Business Objective?**"
   ]
  },
  {
   "cell_type": "markdown",
   "metadata": {
    "id": "PhDvGCAqmjP1"
   },
   "source": [
    "The primary business objective of this project is to help technology companies better understand the mental health needs of their employees by analyzing patterns in treatment-seeking behavior, workplace support, and regional attitudes. By uncovering the key factors that contribute to poor mental health outcomes—such as lack of employer-provided benefits, negative workplace culture, or limited supervisory support—organizations can take data-driven steps to design effective mental health strategies."
   ]
  },
  {
   "cell_type": "markdown",
   "metadata": {
    "id": "mDgbUHAGgjLW"
   },
   "source": [
    "# **General Guidelines** : -  "
   ]
  },
  {
   "cell_type": "markdown",
   "metadata": {
    "id": "ZrxVaUj-hHfC"
   },
   "source": [
    "1.   Well-structured, formatted, and commented code is required.\n",
    "2.   Exception Handling, Production Grade Code & Deployment Ready Code will be a plus. Those students will be awarded some additional credits.\n",
    "     \n",
    "     The additional credits will have advantages over other students during Star Student selection.\n",
    "       \n",
    "             [ Note: - Deployment Ready Code is defined as, the whole .ipynb notebook should be executable in one go\n",
    "                       without a single error logged. ]\n",
    "\n",
    "3.   Each and every logic should have proper comments.\n",
    "4. You may add as many number of charts you want. Make Sure for each and every chart the following format should be answered.\n",
    "        \n",
    "\n",
    "```\n",
    "# Chart visualization code\n",
    "```\n",
    "            \n",
    "\n",
    "*   Why did you pick the specific chart?\n",
    "*   What is/are the insight(s) found from the chart?\n",
    "* Will the gained insights help creating a positive business impact?\n",
    "Are there any insights that lead to negative growth? Justify with specific reason.\n",
    "\n",
    "5. You have to create at least 20 logical & meaningful charts having important insights.\n",
    "\n",
    "\n",
    "[ Hints : - Do the Vizualization in  a structured way while following \"UBM\" Rule.\n",
    "\n",
    "U - Univariate Analysis,\n",
    "\n",
    "B - Bivariate Analysis (Numerical - Categorical, Numerical - Numerical, Categorical - Categorical)\n",
    "\n",
    "M - Multivariate Analysis\n",
    " ]\n",
    "\n",
    "\n",
    "\n"
   ]
  },
  {
   "cell_type": "markdown",
   "metadata": {
    "id": "O_i_v8NEhb9l"
   },
   "source": [
    "# ***Let's Begin !***"
   ]
  },
  {
   "cell_type": "markdown",
   "metadata": {
    "id": "HhfV-JJviCcP"
   },
   "source": [
    "## ***1. Know Your Data***"
   ]
  },
  {
   "cell_type": "markdown",
   "metadata": {
    "id": "Y3lxredqlCYt"
   },
   "source": [
    "### Import Libraries"
   ]
  },
  {
   "cell_type": "code",
   "execution_count": 5,
   "metadata": {
    "id": "M8Vqi-pPk-HR"
   },
   "outputs": [],
   "source": [
    "# Import Libraries\n",
    "import pandas as pd\n",
    "import matplotlib.pyplot as plt\n",
    "import seaborn as sns"
   ]
  },
  {
   "cell_type": "markdown",
   "metadata": {
    "id": "3RnN4peoiCZX"
   },
   "source": [
    "### Dataset Loading"
   ]
  },
  {
   "cell_type": "code",
   "execution_count": 7,
   "metadata": {
    "colab": {
     "base_uri": "https://localhost:8080/"
    },
    "id": "4CkvbW_SlZ_R",
    "outputId": "9ac48242-8c23-4f87-bcb7-ec9520d0f657"
   },
   "outputs": [],
   "source": [
    "df = pd.read_csv(\"survey.csv\")"
   ]
  },
  {
   "cell_type": "markdown",
   "metadata": {
    "id": "x71ZqKXriCWQ"
   },
   "source": [
    "### Dataset First View"
   ]
  },
  {
   "cell_type": "code",
   "execution_count": 9,
   "metadata": {
    "colab": {
     "base_uri": "https://localhost:8080/"
    },
    "id": "LWNFOSvLl09H",
    "outputId": "fd4951e5-d6d3-42ac-99d9-4a2994eafbb1"
   },
   "outputs": [
    {
     "name": "stdout",
     "output_type": "stream",
     "text": [
      "<class 'pandas.core.frame.DataFrame'>\n",
      "RangeIndex: 1259 entries, 0 to 1258\n",
      "Data columns (total 27 columns):\n",
      " #   Column                     Non-Null Count  Dtype \n",
      "---  ------                     --------------  ----- \n",
      " 0   Timestamp                  1259 non-null   object\n",
      " 1   Age                        1259 non-null   int64 \n",
      " 2   Gender                     1259 non-null   object\n",
      " 3   Country                    1259 non-null   object\n",
      " 4   state                      744 non-null    object\n",
      " 5   self_employed              1241 non-null   object\n",
      " 6   family_history             1259 non-null   object\n",
      " 7   treatment                  1259 non-null   object\n",
      " 8   work_interfere             995 non-null    object\n",
      " 9   no_employees               1259 non-null   object\n",
      " 10  remote_work                1259 non-null   object\n",
      " 11  tech_company               1259 non-null   object\n",
      " 12  benefits                   1259 non-null   object\n",
      " 13  care_options               1259 non-null   object\n",
      " 14  wellness_program           1259 non-null   object\n",
      " 15  seek_help                  1259 non-null   object\n",
      " 16  anonymity                  1259 non-null   object\n",
      " 17  leave                      1259 non-null   object\n",
      " 18  mental_health_consequence  1259 non-null   object\n",
      " 19  phys_health_consequence    1259 non-null   object\n",
      " 20  coworkers                  1259 non-null   object\n",
      " 21  supervisor                 1259 non-null   object\n",
      " 22  mental_health_interview    1259 non-null   object\n",
      " 23  phys_health_interview      1259 non-null   object\n",
      " 24  mental_vs_physical         1259 non-null   object\n",
      " 25  obs_consequence            1259 non-null   object\n",
      " 26  comments                   164 non-null    object\n",
      "dtypes: int64(1), object(26)\n",
      "memory usage: 265.7+ KB\n",
      "None\n",
      "             Timestamp  Age  Gender         Country state self_employed  \\\n",
      "0  2014-08-27 11:29:31   37  Female   United States    IL           NaN   \n",
      "1  2014-08-27 11:29:37   44       M   United States    IN           NaN   \n",
      "2  2014-08-27 11:29:44   32    Male          Canada   NaN           NaN   \n",
      "3  2014-08-27 11:29:46   31    Male  United Kingdom   NaN           NaN   \n",
      "4  2014-08-27 11:30:22   31    Male   United States    TX           NaN   \n",
      "\n",
      "  family_history treatment work_interfere    no_employees  ...  \\\n",
      "0             No       Yes          Often            6-25  ...   \n",
      "1             No        No         Rarely  More than 1000  ...   \n",
      "2             No        No         Rarely            6-25  ...   \n",
      "3            Yes       Yes          Often          26-100  ...   \n",
      "4             No        No          Never         100-500  ...   \n",
      "\n",
      "                leave mental_health_consequence phys_health_consequence  \\\n",
      "0       Somewhat easy                        No                      No   \n",
      "1          Don't know                     Maybe                      No   \n",
      "2  Somewhat difficult                        No                      No   \n",
      "3  Somewhat difficult                       Yes                     Yes   \n",
      "4          Don't know                        No                      No   \n",
      "\n",
      "      coworkers supervisor mental_health_interview phys_health_interview  \\\n",
      "0  Some of them        Yes                      No                 Maybe   \n",
      "1            No         No                      No                    No   \n",
      "2           Yes        Yes                     Yes                   Yes   \n",
      "3  Some of them         No                   Maybe                 Maybe   \n",
      "4  Some of them        Yes                     Yes                   Yes   \n",
      "\n",
      "  mental_vs_physical obs_consequence comments  \n",
      "0                Yes              No      NaN  \n",
      "1         Don't know              No      NaN  \n",
      "2                 No              No      NaN  \n",
      "3                 No             Yes      NaN  \n",
      "4         Don't know              No      NaN  \n",
      "\n",
      "[5 rows x 27 columns]\n"
     ]
    }
   ],
   "source": [
    "# Dataset First Look\n",
    "print(df.info())  # display basic information about our column like datatype and count of not null\n",
    "print(df.head())  # display first five rows"
   ]
  },
  {
   "cell_type": "markdown",
   "metadata": {
    "id": "7hBIi_osiCS2"
   },
   "source": [
    "### Dataset Rows & Columns count"
   ]
  },
  {
   "cell_type": "code",
   "execution_count": 38,
   "metadata": {
    "id": "Kllu7SJgmLij"
   },
   "outputs": [],
   "source": [
    "# Dataset Rows & Columns count\n",
    "df['Age'] = df['Age'].fillna(df['Age'].mean())  # fill the missing values in age with mean\n",
    "df = df.dropna(thresh=len(df.columns)-2)  # drop the rows with too many missing values\n",
    "df = df.drop_duplicates()"
   ]
  },
  {
   "cell_type": "markdown",
   "metadata": {
    "id": "JlHwYmJAmNHm"
   },
   "source": [
    "### Dataset Information"
   ]
  },
  {
   "cell_type": "code",
   "execution_count": 39,
   "metadata": {
    "colab": {
     "base_uri": "https://localhost:8080/"
    },
    "id": "e9hRXRi6meOf",
    "outputId": "697e897a-62dc-43dc-f588-97a54701cda6"
   },
   "outputs": [
    {
     "name": "stdout",
     "output_type": "stream",
     "text": [
      "<class 'pandas.core.frame.DataFrame'>\n",
      "RangeIndex: 858 entries, 0 to 857\n",
      "Data columns (total 28 columns):\n",
      " #   Column                     Non-Null Count  Dtype         \n",
      "---  ------                     --------------  -----         \n",
      " 0   Date                       858 non-null    datetime64[ns]\n",
      " 1   Time                       858 non-null    datetime64[ns]\n",
      " 2   Age                        858 non-null    int64         \n",
      " 3   Gender                     858 non-null    object        \n",
      " 4   Country                    858 non-null    object        \n",
      " 5   state                      858 non-null    object        \n",
      " 6   self_employed              858 non-null    object        \n",
      " 7   family_history             858 non-null    object        \n",
      " 8   treatment                  858 non-null    object        \n",
      " 9   work_interfere             858 non-null    object        \n",
      " 10  no_employees               858 non-null    object        \n",
      " 11  remote_work                858 non-null    object        \n",
      " 12  tech_company               858 non-null    object        \n",
      " 13  benefits                   858 non-null    object        \n",
      " 14  care_options               858 non-null    object        \n",
      " 15  wellness_program           858 non-null    object        \n",
      " 16  seek_help                  858 non-null    object        \n",
      " 17  anonymity                  858 non-null    object        \n",
      " 18  leave                      858 non-null    object        \n",
      " 19  mental_health_consequence  858 non-null    object        \n",
      " 20  phys_health_consequence    858 non-null    object        \n",
      " 21  coworkers                  858 non-null    object        \n",
      " 22  supervisor                 858 non-null    object        \n",
      " 23  mental_health_interview    858 non-null    object        \n",
      " 24  phys_health_interview      858 non-null    object        \n",
      " 25  mental_vs_physical         858 non-null    object        \n",
      " 26  obs_consequence            858 non-null    object        \n",
      " 27  comments                   858 non-null    object        \n",
      "dtypes: datetime64[ns](2), int64(1), object(25)\n",
      "memory usage: 187.8+ KB\n",
      "None\n",
      "                 Date                Time  Age  Gender        Country state  \\\n",
      "0 2014-08-27 11:29:31 2014-08-27 11:29:31   37  Female  United states    Il   \n",
      "1 2014-08-27 11:30:22 2014-08-27 11:30:22   31    Male  United states    Tx   \n",
      "2 2014-08-27 11:31:22 2014-08-27 11:31:22   33    Male  United states    Tn   \n",
      "3 2014-08-27 11:31:50 2014-08-27 11:31:50   35  Female  United states    Mi   \n",
      "4 2014-08-27 11:32:39 2014-08-27 11:32:39   42  Female  United states    Il   \n",
      "\n",
      "  self_employed family_history treatment work_interfere  ...  \\\n",
      "0            Na             No       Yes          Often  ...   \n",
      "1            Na             No        No          Never  ...   \n",
      "2            Na            Yes        No      Sometimes  ...   \n",
      "3            Na            Yes       Yes      Sometimes  ...   \n",
      "4            Na            Yes       Yes      Sometimes  ...   \n",
      "\n",
      "                leave mental_health_consequence phys_health_consequence  \\\n",
      "0       Somewhat easy                        No                      No   \n",
      "1          Don't know                        No                      No   \n",
      "2          Don't know                        No                      No   \n",
      "3  Somewhat difficult                     Maybe                   Maybe   \n",
      "4      Very difficult                     Maybe                      No   \n",
      "\n",
      "      coworkers supervisor mental_health_interview phys_health_interview  \\\n",
      "0  Some of them        Yes                      No                 Maybe   \n",
      "1  Some of them        Yes                     Yes                   Yes   \n",
      "2           Yes        Yes                      No                 Maybe   \n",
      "3  Some of them         No                      No                    No   \n",
      "4           Yes        Yes                      No                 Maybe   \n",
      "\n",
      "  mental_vs_physical obs_consequence    comments  \n",
      "0                Yes              No  No comment  \n",
      "1         Don't know              No  No comment  \n",
      "2         Don't know              No  No comment  \n",
      "3         Don't know              No  No comment  \n",
      "4                 No              No  No comment  \n",
      "\n",
      "[5 rows x 28 columns]\n",
      "Date                         0\n",
      "Time                         0\n",
      "Age                          0\n",
      "Gender                       0\n",
      "Country                      0\n",
      "state                        0\n",
      "self_employed                0\n",
      "family_history               0\n",
      "treatment                    0\n",
      "work_interfere               0\n",
      "no_employees                 0\n",
      "remote_work                  0\n",
      "tech_company                 0\n",
      "benefits                     0\n",
      "care_options                 0\n",
      "wellness_program             0\n",
      "seek_help                    0\n",
      "anonymity                    0\n",
      "leave                        0\n",
      "mental_health_consequence    0\n",
      "phys_health_consequence      0\n",
      "coworkers                    0\n",
      "supervisor                   0\n",
      "mental_health_interview      0\n",
      "phys_health_interview        0\n",
      "mental_vs_physical           0\n",
      "obs_consequence              0\n",
      "comments                     0\n",
      "dtype: int64\n"
     ]
    }
   ],
   "source": [
    "# Dataset Info\n",
    "print(df.info())  # display basic information about our column like datatype and count of not null\n",
    "print(df.head())  # display first five rows\n",
    "print(df.isnull().sum())  # check for null values\n",
    "df['Age'] = df['Age'].fillna(df['Age'].mean())  # fill the missing values in age with mean\n",
    "df = df.dropna(thresh=len(df.columns)-2)  # drop the rows with too many missing values\n",
    "df = df.drop_duplicates()"
   ]
  },
  {
   "cell_type": "markdown",
   "metadata": {
    "id": "35m5QtbWiB9F"
   },
   "source": [
    "#### Duplicate Values"
   ]
  },
  {
   "cell_type": "code",
   "execution_count": 11,
   "metadata": {
    "colab": {
     "base_uri": "https://localhost:8080/"
    },
    "id": "1sLdpKYkmox0",
    "outputId": "29156247-debe-4576-94a5-3c531a192616"
   },
   "outputs": [
    {
     "name": "stdout",
     "output_type": "stream",
     "text": [
      "Number of duplicate rows: 0\n"
     ]
    }
   ],
   "source": [
    "# Dataset Duplicate Value Count\n",
    "duplicate_count = df.duplicated().sum()\n",
    "print(f\"Number of duplicate rows: {duplicate_count}\")\n"
   ]
  },
  {
   "cell_type": "markdown",
   "metadata": {
    "id": "PoPl-ycgm1ru"
   },
   "source": [
    "#### Missing Values/Null Values"
   ]
  },
  {
   "cell_type": "code",
   "execution_count": 13,
   "metadata": {
    "colab": {
     "base_uri": "https://localhost:8080/"
    },
    "id": "GgHWkxvamxVg",
    "outputId": "f2b0ed29-1e26-4135-8ac1-4a47b3664f51"
   },
   "outputs": [
    {
     "name": "stdout",
     "output_type": "stream",
     "text": [
      "Total missing values in the dataset: 1892\n"
     ]
    }
   ],
   "source": [
    "# Missing Values/Null Values Count\n",
    "total_missing = df.isnull().sum().sum()\n",
    "print(f\"Total missing values in the dataset: {total_missing}\")\n"
   ]
  },
  {
   "cell_type": "code",
   "execution_count": 15,
   "metadata": {
    "colab": {
     "base_uri": "https://localhost:8080/"
    },
    "id": "3q5wnI3om9sJ",
    "outputId": "72095548-1ab8-4db0-b6f0-090054eafb4f"
   },
   "outputs": [
    {
     "name": "stdout",
     "output_type": "stream",
     "text": [
      "Timestamp                       0\n",
      "Age                             0\n",
      "Gender                          0\n",
      "Country                         0\n",
      "state                         515\n",
      "self_employed                  18\n",
      "family_history                  0\n",
      "treatment                       0\n",
      "work_interfere                264\n",
      "no_employees                    0\n",
      "remote_work                     0\n",
      "tech_company                    0\n",
      "benefits                        0\n",
      "care_options                    0\n",
      "wellness_program                0\n",
      "seek_help                       0\n",
      "anonymity                       0\n",
      "leave                           0\n",
      "mental_health_consequence       0\n",
      "phys_health_consequence         0\n",
      "coworkers                       0\n",
      "supervisor                      0\n",
      "mental_health_interview         0\n",
      "phys_health_interview           0\n",
      "mental_vs_physical              0\n",
      "obs_consequence                 0\n",
      "comments                     1095\n",
      "dtype: int64\n"
     ]
    }
   ],
   "source": [
    "# Visualizing the missing values\n",
    "print(df.isnull().sum())"
   ]
  },
  {
   "cell_type": "markdown",
   "metadata": {
    "id": "H0kj-8xxnORC"
   },
   "source": [
    "### What did you know about your dataset?"
   ]
  },
  {
   "cell_type": "markdown",
   "metadata": {
    "id": "gfoNAAC-nUe_"
   },
   "source": [
    "This dataset is from the 2014 Mental Health in Tech Survey conducted by Open Sourcing Mental Illness (OSMI). It contains responses from employees in the technology industry regarding their experiences, perceptions, and support related to mental health in the workplace.\n",
    "It contains information like Age, Gender, and Country\n",
    "treatment: whether the respondent sought mental health treatment.\n",
    "family_history: whether there is a family history of mental illness.\n",
    "work_interfere: whether mental health interferes with work.\n",
    "benefits, care_options, wellness_program: availability of mental health support at work.\n",
    "supervisor, coworkers: comfort discussing mental health at work."
   ]
  },
  {
   "cell_type": "markdown",
   "metadata": {
    "id": "nA9Y7ga8ng1Z"
   },
   "source": [
    "## ***2. Understanding Your Variables***"
   ]
  },
  {
   "cell_type": "code",
   "execution_count": 17,
   "metadata": {
    "colab": {
     "base_uri": "https://localhost:8080/"
    },
    "id": "j7xfkqrt5Ag5",
    "outputId": "7eb20c45-61a8-456e-e038-365b8e2afcff"
   },
   "outputs": [
    {
     "name": "stdout",
     "output_type": "stream",
     "text": [
      "Columns in the dataset:\n",
      "['Timestamp', 'Age', 'Gender', 'Country', 'state', 'self_employed', 'family_history', 'treatment', 'work_interfere', 'no_employees', 'remote_work', 'tech_company', 'benefits', 'care_options', 'wellness_program', 'seek_help', 'anonymity', 'leave', 'mental_health_consequence', 'phys_health_consequence', 'coworkers', 'supervisor', 'mental_health_interview', 'phys_health_interview', 'mental_vs_physical', 'obs_consequence', 'comments']\n"
     ]
    }
   ],
   "source": [
    "# Dataset Columns\n",
    "print(\"Columns in the dataset:\")\n",
    "print(df.columns.tolist())"
   ]
  },
  {
   "cell_type": "code",
   "execution_count": 25,
   "metadata": {
    "colab": {
     "base_uri": "https://localhost:8080/",
     "height": 300
    },
    "id": "DnOaZdaE5Q5t",
    "outputId": "acaa62b4-9465-4cde-d218-f49a5d36ca76"
   },
   "outputs": [
    {
     "name": "stdout",
     "output_type": "stream",
     "text": [
      "count    1251.000000\n",
      "mean       32.076739\n",
      "std         7.288272\n",
      "min        18.000000\n",
      "25%        27.000000\n",
      "50%        31.000000\n",
      "75%        36.000000\n",
      "max        72.000000\n",
      "Name: Age, dtype: float64\n"
     ]
    }
   ],
   "source": [
    "# Dataset Describe\n",
    "df = df[(df['Age'] >= 18) & (df['Age'] <= 100)]\n",
    "print(df['Age'].describe())"
   ]
  },
  {
   "cell_type": "markdown",
   "metadata": {
    "id": "PBTbrJXOngz2"
   },
   "source": [
    "### Variables Description"
   ]
  },
  {
   "cell_type": "markdown",
   "metadata": {
    "id": "aJV4KIxSnxay"
   },
   "source": [
    "Timestamp – Date and time when the respondent submitted the survey.\n",
    "\n",
    "Age – Age of the respondent.\n",
    "\n",
    "Gender – Gender identity (e.g., Male, Female, Trans, Other).\n",
    "\n",
    "Country – Country where the respondent resides.\n",
    "\n",
    "State – U.S. state or territory (if applicable).\n",
    "\n",
    "Self_employed – Whether the respondent is self-employed (Yes/No).\n",
    "\n",
    "Family_history – Whether the respondent has a family history of mental illness.\n",
    "\n",
    "Treatment – Whether the respondent has sought treatment for mental health.\n",
    "\n",
    "Work_interfere – Whether mental health interferes with work performance.\n",
    "\n",
    "No_employees – Number of employees in the respondent's company.\n",
    "\n",
    "Remote_work – Whether the respondent works remotely (50% or more).\n",
    "\n",
    "Tech_company – Whether the employer is primarily a tech company.\n",
    "\n",
    "Benefits – Whether the employer provides mental health benefits.\n",
    "\n",
    "Care_options – Awareness of available mental health care options at work.\n",
    "\n",
    "Wellness_program – Whether the employer has a wellness program for mental health.\n",
    "\n",
    "Seek_help – Whether the employer provides resources to seek help.\n",
    "\n",
    "Anonymity – Whether anonymity is protected when using mental health resources.\n",
    "\n",
    "Leave – How easy it is to take medical leave for mental health reasons.\n",
    "\n",
    "Mental_health_consequence – Perceived consequences of discussing mental health at work.\n",
    "\n",
    "Phys_health_consequence – Perceived consequences of discussing physical health at work.\n",
    "\n",
    "Coworkers – Willingness to discuss mental health with coworkers.\n",
    "\n",
    "Supervisor – Willingness to discuss mental health with a supervisor.\n",
    "\n",
    "Mental_health_interview – Comfort in discussing mental health during interviews.\n",
    "\n",
    "Phys_health_interview – Comfort in discussing physical health during interviews.\n",
    "\n",
    "Mental_vs_physical – Whether mental health is treated equally to physical health by the employer.\n",
    "\n",
    "Obs_consequence – Whether the respondent has seen negative consequences for others.\n",
    "\n",
    "Comments – Additional comments or free-text responses from participants.\n",
    "\n"
   ]
  },
  {
   "cell_type": "markdown",
   "metadata": {
    "id": "u3PMJOP6ngxN"
   },
   "source": [
    "### Check Unique Values for each variable."
   ]
  },
  {
   "cell_type": "code",
   "execution_count": 27,
   "metadata": {
    "colab": {
     "base_uri": "https://localhost:8080/"
    },
    "id": "zms12Yq5n-jE",
    "outputId": "3dc55170-3fcc-4956-b43d-0d644c8b68e0"
   },
   "outputs": [
    {
     "name": "stdout",
     "output_type": "stream",
     "text": [
      "Unique value count per column:\n",
      "\n",
      "Timestamp                    1239\n",
      "Age                            45\n",
      "Gender                         46\n",
      "Country                        46\n",
      "state                          45\n",
      "self_employed                   2\n",
      "family_history                  2\n",
      "treatment                       2\n",
      "work_interfere                  4\n",
      "no_employees                    6\n",
      "remote_work                     2\n",
      "tech_company                    2\n",
      "benefits                        3\n",
      "care_options                    3\n",
      "wellness_program                3\n",
      "seek_help                       3\n",
      "anonymity                       3\n",
      "leave                           5\n",
      "mental_health_consequence       3\n",
      "phys_health_consequence         3\n",
      "coworkers                       3\n",
      "supervisor                      3\n",
      "mental_health_interview         3\n",
      "phys_health_interview           3\n",
      "mental_vs_physical              3\n",
      "obs_consequence                 2\n",
      "comments                      157\n",
      "dtype: int64\n"
     ]
    }
   ],
   "source": [
    "# Check Unique Values for each variable.\n",
    "unique_counts = df.nunique()\n",
    "print(\"Unique value count per column:\\n\")\n",
    "print(unique_counts)\n"
   ]
  },
  {
   "cell_type": "markdown",
   "metadata": {
    "id": "dauF4eBmngu3"
   },
   "source": [
    "## 3. ***Data Wrangling***"
   ]
  },
  {
   "cell_type": "markdown",
   "metadata": {
    "id": "bKJF3rekwFvQ"
   },
   "source": [
    "### Data Wrangling Code"
   ]
  },
  {
   "cell_type": "code",
   "execution_count": 31,
   "metadata": {
    "colab": {
     "base_uri": "https://localhost:8080/"
    },
    "id": "wk-9a2fpoLcV",
    "outputId": "c96f15e2-f6fe-4e63-9b16-61a53faeaeb1"
   },
   "outputs": [
    {
     "name": "stdout",
     "output_type": "stream",
     "text": [
      "Data wrangling complete. Final shape: (1128, 27)\n"
     ]
    }
   ],
   "source": [
    "# Write your code to make your dataset analysis ready.\n",
    "import pandas as pd\n",
    "# Load Dataset\n",
    "df = pd.read_csv(\"survey.csv\")\n",
    "# 1. Basic Cleaning\n",
    "df.columns = df.columns.str.strip()  # Remove leading/trailing spaces from column names\n",
    "df = df.drop_duplicates()            # Drop duplicate rows\n",
    "df = df.dropna(thresh=len(df.columns) - 2)  # Drop rows with many missing values\n",
    "\n",
    "# 2. Age Filtering\n",
    "df = df[(df['Age'] >= 18) & (df['Age'] <= 100)]  # Keep realistic age range\n",
    "\n",
    "# 3. Fill Missing Values\n",
    "df['Age'] = df['Age'].fillna(df['Age'].mean())\n",
    "df['comments'] = df['comments'].fillna(\"No comment\")\n",
    "df['state'] = df['state'].fillna(\"NA\")\n",
    "df['self_employed'] = df['self_employed'].fillna(\"NA\")\n",
    "df['work_interfere'] = df['work_interfere'].fillna(df['work_interfere'].mode()[0])\n",
    "\n",
    "# 4. Clean and Standardize Gender\n",
    "def clean_gender(gender):\n",
    "    gender = str(gender).strip().lower()\n",
    "    if gender in ['male', 'm', 'man']:\n",
    "        return 'Male'\n",
    "    elif gender in ['female', 'f', 'woman']:\n",
    "        return 'Female'\n",
    "    elif 'trans' in gender:\n",
    "        return 'Trans'\n",
    "    else:\n",
    "        return 'Other'\n",
    "\n",
    "df['Gender'] = df['Gender'].apply(clean_gender)\n",
    "\n",
    "# 5. Clean Text Columns\n",
    "text_cols = df.select_dtypes(include='object').columns\n",
    "text_cols = [col for col in text_cols if col not in ['Timestamp']]  # Exclude timestamp\n",
    "for col in text_cols:\n",
    "    df[col] = df[col].astype(str).str.strip().str.capitalize()\n",
    "\n",
    "# 6. Fix Excel Date Format in 'no_employees'\n",
    "corrections = {\n",
    "    'Jun-25': '6-25',\n",
    "    '25-Jun': '6-25',\n",
    "    '01-May': '1-5',\n",
    "    '1-May': '1-5',\n",
    "    'May-01': '1-5',\n",
    "    'Jun 25': '6-25',\n",
    "    '01 May': '1-5',\n",
    "    '6/25/2023': '6-25',\n",
    "    '5/1/2023': '1-5'\n",
    "}\n",
    "df['no_employees'] = df['no_employees'].astype(str).str.strip()\n",
    "df['no_employees'] = df['no_employees'].replace(corrections)\n",
    "\n",
    "# 7. Keep only valid employee ranges\n",
    "valid_ranges = ['1-5', '6-25', '26-100', '100-500', '500-1000', 'More than 1000']\n",
    "df = df[df['no_employees'].isin(valid_ranges)]\n",
    "df['no_employees'] = df['no_employees'].apply(lambda x: f\"'{x}\")\n",
    "\n",
    "# 8. Final type cleanup\n",
    "df.reset_index(drop=True, inplace=True)\n",
    "\n",
    "# View result\n",
    "print(\"Data wrangling complete. Final shape:\", df.shape)\n"
   ]
  },
  {
   "cell_type": "markdown",
   "metadata": {
    "id": "MSa1f5Uengrz"
   },
   "source": [
    "### What all manipulations have you done and insights you found?\n"
   ]
  },
  {
   "cell_type": "markdown",
   "metadata": {
    "id": "LbyXE7I1olp8"
   },
   "source": [
    "The dataset was thoroughly cleaned and prepared before analysis. First, missing values were addressed. The Age column had missing entries, which were filled using the mean age to retain the numerical balance. Other columns like comments, state, and self_employed were filled with placeholders such as \"No comment\" and \"NA\" to preserve structure without misleading imputation. For the categorical column work_interfere, the most frequent value (mode) was used to fill in gaps.A major cleaning step involved the standardization of the 'Gender' column. Due to open-text input, the dataset contained inconsistent entries like “M”, “male”, “Man”, “F”, “Female”, etc. These were normalized into standardized categories: Male, Female, Trans, and Other.The no_employees column had several corrupted values due to Excel's automatic date formatting (e.g., “Jun-25” instead of “6-25”). These were manually corrected using a dictionary mapping. Only valid ranges like ‘1-5’, ‘6-25’, ‘26-100’, etc. were retained to ensure proper categorical analysis."
   ]
  },
  {
   "cell_type": "markdown",
   "metadata": {
    "id": "GF8Ens_Soomf"
   },
   "source": [
    "## ***4. Data Vizualization, Storytelling & Experimenting with charts : Understand the relationships between variables***"
   ]
  },
  {
   "cell_type": "markdown",
   "metadata": {
    "id": "0wOQAZs5pc--"
   },
   "source": [
    "#### Chart - 1"
   ]
  },
  {
   "cell_type": "code",
   "execution_count": 33,
   "metadata": {
    "colab": {
     "base_uri": "https://localhost:8080/",
     "height": 464
    },
    "id": "7v_ESjsspbW7",
    "outputId": "630d3633-28be-44da-d802-2a2b1faabc6a"
   },
   "outputs": [
    {
     "data": {
      "image/png": "[encoded data removed]",
      "text/plain": [
       "<Figure size 640x480 with 1 Axes>"
      ]
     },
     "metadata": {},
     "output_type": "display_data"
    }
   ],
   "source": [
    "# Chart - 1 visualization code\n",
    "# Gender distribution\n",
    "sns.countplot(x='Gender', data=df)\n",
    "plt.title(\"Gender Distribution\")\n",
    "plt.xticks(rotation=45)\n",
    "plt.show()"
   ]
  },
  {
   "cell_type": "markdown",
   "metadata": {
    "id": "K5QZ13OEpz2H"
   },
   "source": [
    "##### 1. Why did you pick the specific chart?"
   ]
  },
  {
   "cell_type": "markdown",
   "metadata": {
    "id": "XESiWehPqBRc"
   },
   "source": [
    "A bar chart countplot is ideal for visualizing categorical data like gender. It clearly displays the number of respondents in each gender category, making it easy to compare proportions. Since 'Gender' is non-numeric and limited to a few values, this chart provides a simple yet effective overview of gender distribution within the dataset.\n",
    "\n"
   ]
  },
  {
   "cell_type": "markdown",
   "metadata": {
    "id": "lQ7QKXXCp7Bj"
   },
   "source": [
    "##### 2. What is/are the insight(s) found from the chart?"
   ]
  },
  {
   "cell_type": "markdown",
   "metadata": {
    "id": "C_j1G7yiqdRP"
   },
   "source": [
    "The chart shows that the majority of respondents identify as Male, followed by Female, with Trans and Other categories being very few. This suggests a gender imbalance in the tech workforce represented by the survey. However, the presence of other gender identities, although minimal, emphasizes the need for inclusive mental health considerations."
   ]
  },
  {
   "cell_type": "markdown",
   "metadata": {
    "id": "448CDAPjqfQr"
   },
   "source": [
    "##### 3. Will the gained insights help creating a positive business impact?\n",
    "Are there any insights that lead to negative growth? Justify with specific reason."
   ]
  },
  {
   "cell_type": "markdown",
   "metadata": {
    "id": "3cspy4FjqxJW"
   },
   "source": [
    "Yes, the insight helps businesses design more inclusive mental health programs and address stigma, especially among male employees. Ignoring minority genders could lead to a lack of inclusivity and higher attrition. Understanding the gender makeup enables HR teams to make informed, equitable decisions that foster a positive workplace culture"
   ]
  },
  {
   "cell_type": "markdown",
   "metadata": {
    "id": "KSlN3yHqYklG"
   },
   "source": [
    "#### Chart - 2"
   ]
  },
  {
   "cell_type": "code",
   "execution_count": 35,
   "metadata": {
    "colab": {
     "base_uri": "https://localhost:8080/",
     "height": 662
    },
    "id": "R4YgtaqtYklH",
    "outputId": "4990a008-0c20-468b-effb-e49927346dba"
   },
   "outputs": [
    {
     "data": {
      "image/png": "[encoded data removed]",
      "text/plain": [
       "<Figure size 1200x600 with 1 Axes>"
      ]
     },
     "metadata": {},
     "output_type": "display_data"
    }
   ],
   "source": [
    "# Chart - 2 visualization code\n",
    "# 1. Treatment by Country (Top 10)\n",
    "plt.figure(figsize=(12,6))\n",
    "top_countries = df['Country'].value_counts().head(10).index\n",
    "country_treatment = df[df['Country'].isin(top_countries)]\n",
    "sns.countplot(y='Country', hue='treatment', data=country_treatment, order=top_countries)\n",
    "plt.title(\"Mental Health Treatment by Country\")\n",
    "plt.xlabel(\"Count\")\n",
    "plt.ylabel(\"Country\")\n",
    "plt.legend(title='Treatment')\n",
    "plt.tight_layout()\n",
    "plt.show()"
   ]
  },
  {
   "cell_type": "markdown",
   "metadata": {
    "id": "t6dVpIINYklI"
   },
   "source": [
    "##### 1. Why did you pick the specific chart?"
   ]
  },
  {
   "cell_type": "markdown",
   "metadata": {
    "id": "5aaW0BYyYklI"
   },
   "source": [
    "A grouped bar chart (countplot with hue='treatment') is suitable to compare mental health treatment responses across the top 10 countries. It helps visualize both the distribution by country and treatment status in one view. The horizontal layout makes country names easier to read, especially when there are many categories.\n",
    "\n"
   ]
  },
  {
   "cell_type": "markdown",
   "metadata": {
    "id": "ijmpgYnKYklI"
   },
   "source": [
    "##### 2. What is/are the insight(s) found from the chart?"
   ]
  },
  {
   "cell_type": "markdown",
   "metadata": {
    "id": "PSx9atu2YklI"
   },
   "source": [
    "The chart shows that countries like the United States, United Kingdom, and Canada had the highest number of responses. Among them, a significant portion of individuals reported having sought treatment. However, some countries show a large number of people who did not seek treatment, indicating potential cultural or systemic barriers.\n",
    "\n"
   ]
  },
  {
   "cell_type": "markdown",
   "metadata": {
    "id": "-JiQyfWJYklI"
   },
   "source": [
    "##### 3. Will the gained insights help creating a positive business impact?\n",
    "Are there any insights that lead to negative growth? Justify with specific reason."
   ]
  },
  {
   "cell_type": "markdown",
   "metadata": {
    "id": "BcBbebzrYklV"
   },
   "source": [
    "Yes, these insights can help multinational companies tailor mental health programs based on country-specific behavior and openness toward treatment. If regional differences are ignored, it may result in ineffective or underused programs, especially in countries with low treatment rates. Addressing these differences improves employee engagement and wellness globally"
   ]
  },
  {
   "cell_type": "markdown",
   "metadata": {
    "id": "EM7whBJCYoAo"
   },
   "source": [
    "#### Chart - 3"
   ]
  },
  {
   "cell_type": "code",
   "execution_count": 37,
   "metadata": {
    "colab": {
     "base_uri": "https://localhost:8080/",
     "height": 662
    },
    "id": "t6GMdE67YoAp",
    "outputId": "169257a9-dd87-4ba8-80aa-cab48af2574c"
   },
   "outputs": [
    {
     "data": {
      "image/png": "[encoded data removed]",
      "text/plain": [
       "<Figure size 1400x600 with 1 Axes>"
      ]
     },
     "metadata": {},
     "output_type": "display_data"
    }
   ],
   "source": [
    "# Chart - 3 visualization code\n",
    "# Attitudes towards mental health\n",
    "plt.figure(figsize=(14,6))\n",
    "sns.countplot(x='Country', hue='mental_health_consequence', data=country_treatment, order=top_countries)\n",
    "plt.title(\"Perceived Mental Health Consequences by Country\")\n",
    "plt.xlabel(\"Country\")\n",
    "plt.xticks(rotation=45)\n",
    "plt.legend(title='Mental Health Consequence')\n",
    "plt.tight_layout()\n",
    "plt.show()"
   ]
  },
  {
   "cell_type": "markdown",
   "metadata": {
    "id": "fge-S5ZAYoAp"
   },
   "source": [
    "##### 1. Why did you pick the specific chart?"
   ]
  },
  {
   "cell_type": "markdown",
   "metadata": {
    "id": "5dBItgRVYoAp"
   },
   "source": [
    "A grouped bar chart with hue='mental_health_consequence' is effective for showing attitudes toward discussing mental health across different countries. It helps compare how people from each country perceive the risks of disclosing mental health issues at work. This format allows easy visual comparison of stigma levels across regions."
   ]
  },
  {
   "cell_type": "markdown",
   "metadata": {
    "id": "85gYPyotYoAp"
   },
   "source": [
    "##### 2. What is/are the insight(s) found from the chart?"
   ]
  },
  {
   "cell_type": "markdown",
   "metadata": {
    "id": "4jstXR6OYoAp"
   },
   "source": [
    "The chart reveals that in many countries, especially the U.S. and UK, a large number of respondents feel there may be negative consequences to discussing mental health at work. This indicates that stigma and fear of judgment still exist globally, though some countries are more open and supportive than others.\n",
    "\n"
   ]
  },
  {
   "cell_type": "markdown",
   "metadata": {
    "id": "RoGjAbkUYoAp"
   },
   "source": [
    "##### 3. Will the gained insights help creating a positive business impact?\n",
    "Are there any insights that lead to negative growth? Justify with specific reason."
   ]
  },
  {
   "cell_type": "markdown",
   "metadata": {
    "id": "zfJ8IqMcYoAp"
   },
   "source": [
    "Yes, understanding regional attitudes helps companies develop location-sensitive policies that reduce fear and promote mental health discussions. If such stigma is not addressed, it may lead to suppressed employee well-being and reduced productivity, negatively impacting long-term organizational health. Proactive action can foster a safer, more open culture.\n",
    "\n"
   ]
  },
  {
   "cell_type": "markdown",
   "metadata": {
    "id": "4Of9eVA-YrdM"
   },
   "source": [
    "#### Chart - 4"
   ]
  },
  {
   "cell_type": "code",
   "execution_count": 39,
   "metadata": {
    "colab": {
     "base_uri": "https://localhost:8080/",
     "height": 487
    },
    "id": "irlUoxc8YrdO",
    "outputId": "80931616-91bd-4c1c-cdf8-6247a9656ef3"
   },
   "outputs": [
    {
     "data": {
      "image/png": "[encoded data removed]",
      "text/plain": [
       "<Figure size 640x480 with 1 Axes>"
      ]
     },
     "metadata": {},
     "output_type": "display_data"
    }
   ],
   "source": [
    "# Chart - 4 visualization code\n",
    "# Mental health vs. family history\n",
    "sns.countplot(x='family_history', hue='treatment', data=df)\n",
    "plt.title(\"Family History vs Mental Health Treatment\")\n",
    "plt.xlabel(\"Family History of Mental Illness\")\n",
    "plt.ylabel(\"Count\")\n",
    "plt.tight_layout()\n",
    "plt.show()"
   ]
  },
  {
   "cell_type": "markdown",
   "metadata": {
    "id": "iky9q4vBYrdO"
   },
   "source": [
    "##### 1. Why did you pick the specific chart?"
   ]
  },
  {
   "cell_type": "markdown",
   "metadata": {
    "id": "aJRCwT6DYrdO"
   },
   "source": [
    "A grouped bar chart using hue='treatment' is ideal for comparing treatment-seeking behavior based on the presence or absence of a family history of mental illness. It clearly shows the relationship between two categorical variables and highlights how family background influences mental health actions.\n",
    "\n"
   ]
  },
  {
   "cell_type": "markdown",
   "metadata": {
    "id": "F6T5p64dYrdO"
   },
   "source": [
    "##### 2. What is/are the insight(s) found from the chart?"
   ]
  },
  {
   "cell_type": "markdown",
   "metadata": {
    "id": "Xx8WAJvtYrdO"
   },
   "source": [
    "The chart shows that individuals with a family history of mental illness are significantly more likely to have sought treatment compared to those without. This suggests a strong link between awareness or personal experience of mental health conditions and the likelihood of seeking help"
   ]
  },
  {
   "cell_type": "markdown",
   "metadata": {
    "id": "y-Ehk30pYrdP"
   },
   "source": [
    "##### 3. Will the gained insights help creating a positive business impact?\n",
    "Are there any insights that lead to negative growth? Justify with specific reason."
   ]
  },
  {
   "cell_type": "markdown",
   "metadata": {
    "id": "jLNxxz7MYrdP"
   },
   "source": [
    "The chart shows that individuals with a family history of mental illness are significantly more likely to have sought treatment compared to those without. This suggests a strong link between awareness or personal experience of mental health conditions and the likelihood of seeking help"
   ]
  },
  {
   "cell_type": "markdown",
   "metadata": {
    "id": "bamQiAODYuh1"
   },
   "source": [
    "#### Chart - 5"
   ]
  },
  {
   "cell_type": "code",
   "execution_count": 41,
   "metadata": {
    "colab": {
     "base_uri": "https://localhost:8080/",
     "height": 487
    },
    "id": "TIJwrbroYuh3",
    "outputId": "5252d815-a07f-45fd-b280-2d98f896c16c"
   },
   "outputs": [
    {
     "data": {
      "image/png": "[encoded data removed]",
      "text/plain": [
       "<Figure size 640x480 with 1 Axes>"
      ]
     },
     "metadata": {},
     "output_type": "display_data"
    }
   ],
   "source": [
    "# Chart - 5 visualization code\n",
    "#Supervisor support\n",
    "sns.countplot(x='supervisor', hue='treatment', data=df)\n",
    "plt.title(\"Supervisor Support vs Mental Health Treatment\")\n",
    "plt.xlabel(\"Comfort Discussing with Supervisor\")\n",
    "plt.xticks(rotation=45)\n",
    "plt.tight_layout()\n",
    "plt.show()\n"
   ]
  },
  {
   "cell_type": "markdown",
   "metadata": {
    "id": "QHF8YVU7Yuh3"
   },
   "source": [
    "##### 1. Why did you pick the specific chart?"
   ]
  },
  {
   "cell_type": "markdown",
   "metadata": {
    "id": "dcxuIMRPYuh3"
   },
   "source": [
    "A grouped bar chart is ideal for comparing the comfort level of employees discussing mental health with their supervisors against their likelihood of seeking treatment. Using hue='treatment' shows how support from supervisors may influence decisions about getting help, making this the best chart to visualize relational patterns in categorical data."
   ]
  },
  {
   "cell_type": "markdown",
   "metadata": {
    "id": "GwzvFGzlYuh3"
   },
   "source": [
    "##### 2. What is/are the insight(s) found from the chart?"
   ]
  },
  {
   "cell_type": "markdown",
   "metadata": {
    "id": "uyqkiB8YYuh3"
   },
   "source": [
    "The chart reveals that respondents who are comfortable discussing mental health with their supervisors are more likely to have sought treatment. In contrast, those who are not comfortable show a lower treatment rate. This suggests that supervisor openness and support play a crucial role in encouraging employees to seek help.\n",
    "\n"
   ]
  },
  {
   "cell_type": "markdown",
   "metadata": {
    "id": "qYpmQ266Yuh3"
   },
   "source": [
    "##### 3. Will the gained insights help creating a positive business impact?\n",
    "Are there any insights that lead to negative growth? Justify with specific reason."
   ]
  },
  {
   "cell_type": "markdown",
   "metadata": {
    "id": "_WtzZ_hCYuh4"
   },
   "source": [
    "Yes, fostering supervisor support can lead to a positive business impact by making employees feel safe and encouraged to prioritize their mental health. On the other hand, lack of support from supervisors may discourage open conversation and treatment, leading to higher stress, absenteeism, or turnover, which can harm productivity and morale."
   ]
  },
  {
   "cell_type": "markdown",
   "metadata": {
    "id": "OH-pJp9IphqM"
   },
   "source": [
    "#### Chart - 6"
   ]
  },
  {
   "cell_type": "code",
   "execution_count": 43,
   "metadata": {
    "colab": {
     "base_uri": "https://localhost:8080/",
     "height": 487
    },
    "id": "kuRf4wtuphqN",
    "outputId": "fe95c33c-da57-4f6b-8896-8a00aeccc2c4"
   },
   "outputs": [
    {
     "data": {
      "image/png": "[encoded data removed]",
      "text/plain": [
       "<Figure size 640x480 with 1 Axes>"
      ]
     },
     "metadata": {},
     "output_type": "display_data"
    }
   ],
   "source": [
    "# Chart - 6 visualization code\n",
    "# Employer support vs treatment\n",
    "sns.countplot(x='benefits', hue='treatment', data=df)\n",
    "plt.title(\"Mental Health Benefits at Work vs Treatment\")\n",
    "plt.xlabel(\"Employer Provides Mental Health Benefits\")\n",
    "plt.xticks(rotation=45)\n",
    "plt.tight_layout()\n",
    "plt.show()"
   ]
  },
  {
   "cell_type": "markdown",
   "metadata": {
    "id": "bbFf2-_FphqN"
   },
   "source": [
    "##### 1. Why did you pick the specific chart?"
   ]
  },
  {
   "cell_type": "markdown",
   "metadata": {
    "id": "loh7H2nzphqN"
   },
   "source": [
    "A grouped bar chart is best suited for comparing employees' access to mental health benefits with their treatment-seeking behavior. Using hue='treatment' helps to clearly observe how the presence or absence of benefits influences whether people actually seek mental health support.\n",
    "\n"
   ]
  },
  {
   "cell_type": "markdown",
   "metadata": {
    "id": "_ouA3fa0phqN"
   },
   "source": [
    "##### 2. What is/are the insight(s) found from the chart?"
   ]
  },
  {
   "cell_type": "markdown",
   "metadata": {
    "id": "VECbqPI7phqN"
   },
   "source": [
    "The chart shows that employees who reported that their employer provides mental health benefits are more likely to have sought treatment. In contrast, those without such benefits or who were unsure showed lower treatment rates, indicating a strong link between available support and actual help-seeking behavior"
   ]
  },
  {
   "cell_type": "markdown",
   "metadata": {
    "id": "Seke61FWphqN"
   },
   "source": [
    "##### 3. Will the gained insights help creating a positive business impact?\n",
    "Are there any insights that lead to negative growth? Justify with specific reason."
   ]
  },
  {
   "cell_type": "markdown",
   "metadata": {
    "id": "DW4_bGpfphqN"
   },
   "source": [
    "Yes, the insight can help businesses realize the importance of offering clear and accessible mental health benefits. Providing such support encourages employees to seek help early, improving well-being and productivity. Failure to provide or communicate benefits may lead to untreated issues, resulting in higher absenteeism and reduced performance.\n",
    "\n"
   ]
  },
  {
   "cell_type": "markdown",
   "metadata": {
    "id": "PIIx-8_IphqN"
   },
   "source": [
    "#### Chart - 7"
   ]
  },
  {
   "cell_type": "code",
   "execution_count": 45,
   "metadata": {
    "colab": {
     "base_uri": "https://localhost:8080/",
     "height": 452
    },
    "id": "lqAIGUfyphqO",
    "outputId": "7f22ec17-7bd9-484f-eaa0-b18cd2b25413"
   },
   "outputs": [
    {
     "data": {
      "image/png": "[encoded data removed]",
      "text/plain": [
       "<Figure size 640x480 with 1 Axes>"
      ]
     },
     "metadata": {},
     "output_type": "display_data"
    }
   ],
   "source": [
    "# Chart - 7 visualization code\n",
    "# Age distribution\n",
    "sns.histplot(df['Age'], bins=20, kde=True)\n",
    "plt.title(\"Age Distribution\")\n",
    "plt.show()"
   ]
  },
  {
   "cell_type": "markdown",
   "metadata": {
    "id": "t27r6nlMphqO"
   },
   "source": [
    "##### 1. Why did you pick the specific chart?"
   ]
  },
  {
   "cell_type": "markdown",
   "metadata": {
    "id": "iv6ro40sphqO"
   },
   "source": [
    "A histogram with a KDE (Kernel Density Estimate) is ideal for visualizing the distribution of continuous numerical data like age. This chart shows the spread and frequency of age groups, helping us understand the central tendencies and outliers in the dataset.\n",
    "\n"
   ]
  },
  {
   "cell_type": "markdown",
   "metadata": {
    "id": "r2jJGEOYphqO"
   },
   "source": [
    "##### 2. What is/are the insight(s) found from the chart?"
   ]
  },
  {
   "cell_type": "markdown",
   "metadata": {
    "id": "Po6ZPi4hphqO"
   },
   "source": [
    "The chart shows that most respondents fall in the age range of 25 to 35, indicating that the tech industry workforce represented in this survey is relatively young. Very few participants are above 50, suggesting limited data from older professionals.\n",
    "\n"
   ]
  },
  {
   "cell_type": "markdown",
   "metadata": {
    "id": "b0JNsNcRphqO"
   },
   "source": [
    "##### 3. Will the gained insights help creating a positive business impact?\n",
    "Are there any insights that lead to negative growth? Justify with specific reason."
   ]
  },
  {
   "cell_type": "markdown",
   "metadata": {
    "id": "xvSq8iUTphqO"
   },
   "source": [
    "Yes, understanding age distribution helps businesses target mental health programs for the most represented age groups while ensuring inclusivity for all. If older employees are underrepresented or underserved, it could lead to neglected needs and a gap in policy coverage, potentially impacting employee retention and well-being."
   ]
  },
  {
   "cell_type": "markdown",
   "metadata": {
    "id": "BZR9WyysphqO"
   },
   "source": [
    "#### Chart - 8"
   ]
  },
  {
   "cell_type": "code",
   "execution_count": 47,
   "metadata": {
    "colab": {
     "base_uri": "https://localhost:8080/",
     "height": 452
    },
    "id": "TdPTWpAVphqO",
    "outputId": "70b5cc72-f665-4077-9c2d-dd001b8117c2"
   },
   "outputs": [
    {
     "data": {
      "image/png": "[encoded data removed]",
      "text/plain": [
       "<Figure size 640x480 with 1 Axes>"
      ]
     },
     "metadata": {},
     "output_type": "display_data"
    }
   ],
   "source": [
    "# Chart - 8 visualization code\n",
    "#Mental health vs gender\n",
    "sns.countplot(x='Gender', hue='treatment', data=df)\n",
    "plt.title(\"Treatment vs Gender\")\n",
    "plt.show()"
   ]
  },
  {
   "cell_type": "markdown",
   "metadata": {
    "id": "jj7wYXLtphqO"
   },
   "source": [
    "##### 1. Why did you pick the specific chart?"
   ]
  },
  {
   "cell_type": "markdown",
   "metadata": {
    "id": "Ob8u6rCTphqO"
   },
   "source": [
    "A grouped bar chart (hue='treatment') is perfect for comparing how different gender groups respond to mental health treatment. It allows us to see both the distribution of genders and their respective treatment-seeking behavior in one clear visualization."
   ]
  },
  {
   "cell_type": "markdown",
   "metadata": {
    "id": "eZrbJ2SmphqO"
   },
   "source": [
    "##### 2. What is/are the insight(s) found from the chart?"
   ]
  },
  {
   "cell_type": "markdown",
   "metadata": {
    "id": "mZtgC_hjphqO"
   },
   "source": [
    "The chart shows that across all gender groups, a significant portion has sought treatment, with male respondents being the majority. Female and trans respondents also show notable treatment rates, suggesting mental health awareness exists across all gender identities, though the sample size differs.\n",
    "\n"
   ]
  },
  {
   "cell_type": "markdown",
   "metadata": {
    "id": "rFu4xreNphqO"
   },
   "source": [
    "##### 3. Will the gained insights help creating a positive business impact?\n",
    "Are there any insights that lead to negative growth? Justify with specific reason."
   ]
  },
  {
   "cell_type": "markdown",
   "metadata": {
    "id": "ey_0qi68phqO"
   },
   "source": [
    "Yes, this insight helps design gender-sensitive mental health programs and ensures no group is overlooked. If treatment patterns by gender are ignored, it may lead to inequitable support and leave specific groups underserved, which could negatively impact employee well-being and inclusivity efforts.\n",
    "\n"
   ]
  },
  {
   "cell_type": "markdown",
   "metadata": {
    "id": "YJ55k-q6phqO"
   },
   "source": [
    "#### Chart - 9"
   ]
  },
  {
   "cell_type": "code",
   "execution_count": 54,
   "metadata": {
    "id": "B2aS4O1ophqO"
   },
   "outputs": [],
   "source": []
  },
  {
   "cell_type": "markdown",
   "metadata": {
    "id": "gCFgpxoyphqP"
   },
   "source": [
    "##### 1. Why did you pick the specific chart?"
   ]
  },
  {
   "cell_type": "markdown",
   "metadata": {
    "id": "TVxDimi2phqP"
   },
   "source": [
    "Answer Here."
   ]
  },
  {
   "cell_type": "markdown",
   "metadata": {
    "id": "OVtJsKN_phqQ"
   },
   "source": [
    "##### 2. What is/are the insight(s) found from the chart?"
   ]
  },
  {
   "cell_type": "markdown",
   "metadata": {
    "id": "ngGi97qjphqQ"
   },
   "source": [
    "Answer Here"
   ]
  },
  {
   "cell_type": "markdown",
   "metadata": {
    "id": "lssrdh5qphqQ"
   },
   "source": [
    "##### 3. Will the gained insights help creating a positive business impact?\n",
    "Are there any insights that lead to negative growth? Justify with specific reason."
   ]
  },
  {
   "cell_type": "markdown",
   "metadata": {
    "id": "tBpY5ekJphqQ"
   },
   "source": [
    "Answer Here"
   ]
  },
  {
   "cell_type": "markdown",
   "metadata": {
    "id": "U2RJ9gkRphqQ"
   },
   "source": [
    "#### Chart - 10"
   ]
  },
  {
   "cell_type": "code",
   "execution_count": 54,
   "metadata": {
    "id": "GM7a4YP4phqQ"
   },
   "outputs": [],
   "source": []
  },
  {
   "cell_type": "markdown",
   "metadata": {
    "id": "1M8mcRywphqQ"
   },
   "source": [
    "##### 1. Why did you pick the specific chart?"
   ]
  },
  {
   "cell_type": "markdown",
   "metadata": {
    "id": "8agQvks0phqQ"
   },
   "source": [
    "Answer Here."
   ]
  },
  {
   "cell_type": "markdown",
   "metadata": {
    "id": "tgIPom80phqQ"
   },
   "source": [
    "##### 2. What is/are the insight(s) found from the chart?"
   ]
  },
  {
   "cell_type": "markdown",
   "metadata": {
    "id": "Qp13pnNzphqQ"
   },
   "source": [
    "Answer Here"
   ]
  },
  {
   "cell_type": "markdown",
   "metadata": {
    "id": "JMzcOPDDphqR"
   },
   "source": [
    "##### 3. Will the gained insights help creating a positive business impact?\n",
    "Are there any insights that lead to negative growth? Justify with specific reason."
   ]
  },
  {
   "cell_type": "markdown",
   "metadata": {
    "id": "R4Ka1PC2phqR"
   },
   "source": [
    "Answer Here"
   ]
  },
  {
   "cell_type": "markdown",
   "metadata": {
    "id": "x-EpHcCOp1ci"
   },
   "source": [
    "#### Chart - 11"
   ]
  },
  {
   "cell_type": "code",
   "execution_count": 55,
   "metadata": {
    "id": "mAQTIvtqp1cj"
   },
   "outputs": [],
   "source": [
    "# Chart - 11 visualization code"
   ]
  },
  {
   "cell_type": "markdown",
   "metadata": {
    "id": "X_VqEhTip1ck"
   },
   "source": [
    "##### 1. Why did you pick the specific chart?"
   ]
  },
  {
   "cell_type": "markdown",
   "metadata": {
    "id": "-vsMzt_np1ck"
   },
   "source": [
    "Answer Here."
   ]
  },
  {
   "cell_type": "markdown",
   "metadata": {
    "id": "8zGJKyg5p1ck"
   },
   "source": [
    "##### 2. What is/are the insight(s) found from the chart?"
   ]
  },
  {
   "cell_type": "markdown",
   "metadata": {
    "id": "ZYdMsrqVp1ck"
   },
   "source": [
    "Answer Here"
   ]
  },
  {
   "cell_type": "markdown",
   "metadata": {
    "id": "PVzmfK_Ep1ck"
   },
   "source": [
    "##### 3. Will the gained insights help creating a positive business impact?\n",
    "Are there any insights that lead to negative growth? Justify with specific reason."
   ]
  },
  {
   "cell_type": "markdown",
   "metadata": {
    "id": "druuKYZpp1ck"
   },
   "source": [
    "Answer Here"
   ]
  },
  {
   "cell_type": "markdown",
   "metadata": {
    "id": "n3dbpmDWp1ck"
   },
   "source": [
    "#### Chart - 12"
   ]
  },
  {
   "cell_type": "code",
   "execution_count": 56,
   "metadata": {
    "id": "bwevp1tKp1ck"
   },
   "outputs": [],
   "source": [
    "# Chart - 12 visualization code"
   ]
  },
  {
   "cell_type": "markdown",
   "metadata": {
    "id": "ylSl6qgtp1ck"
   },
   "source": [
    "##### 1. Why did you pick the specific chart?"
   ]
  },
  {
   "cell_type": "markdown",
   "metadata": {
    "id": "m2xqNkiQp1ck"
   },
   "source": [
    "Answer Here."
   ]
  },
  {
   "cell_type": "markdown",
   "metadata": {
    "id": "ZWILFDl5p1ck"
   },
   "source": [
    "##### 2. What is/are the insight(s) found from the chart?"
   ]
  },
  {
   "cell_type": "markdown",
   "metadata": {
    "id": "x-lUsV2mp1ck"
   },
   "source": [
    "Answer Here"
   ]
  },
  {
   "cell_type": "markdown",
   "metadata": {
    "id": "M7G43BXep1ck"
   },
   "source": [
    "##### 3. Will the gained insights help creating a positive business impact?\n",
    "Are there any insights that lead to negative growth? Justify with specific reason."
   ]
  },
  {
   "cell_type": "markdown",
   "metadata": {
    "id": "5wwDJXsLp1cl"
   },
   "source": [
    "Answer Here"
   ]
  },
  {
   "cell_type": "markdown",
   "metadata": {
    "id": "Ag9LCva-p1cl"
   },
   "source": [
    "#### Chart - 13"
   ]
  },
  {
   "cell_type": "code",
   "execution_count": 57,
   "metadata": {
    "id": "EUfxeq9-p1cl"
   },
   "outputs": [],
   "source": [
    "# Chart - 13 visualization code"
   ]
  },
  {
   "cell_type": "markdown",
   "metadata": {
    "id": "E6MkPsBcp1cl"
   },
   "source": [
    "##### 1. Why did you pick the specific chart?"
   ]
  },
  {
   "cell_type": "markdown",
   "metadata": {
    "id": "V22bRsFWp1cl"
   },
   "source": [
    "Answer Here."
   ]
  },
  {
   "cell_type": "markdown",
   "metadata": {
    "id": "2cELzS2fp1cl"
   },
   "source": [
    "##### 2. What is/are the insight(s) found from the chart?"
   ]
  },
  {
   "cell_type": "markdown",
   "metadata": {
    "id": "ozQPc2_Ip1cl"
   },
   "source": [
    "Answer Here"
   ]
  },
  {
   "cell_type": "markdown",
   "metadata": {
    "id": "3MPXvC8up1cl"
   },
   "source": [
    "##### 3. Will the gained insights help creating a positive business impact?\n",
    "Are there any insights that lead to negative growth? Justify with specific reason."
   ]
  },
  {
   "cell_type": "markdown",
   "metadata": {
    "id": "GL8l1tdLp1cl"
   },
   "source": [
    "Answer Here"
   ]
  },
  {
   "cell_type": "markdown",
   "metadata": {
    "id": "NC_X3p0fY2L0"
   },
   "source": [
    "#### Chart - 14 - Correlation Heatmap"
   ]
  },
  {
   "cell_type": "code",
   "execution_count": 49,
   "metadata": {
    "colab": {
     "base_uri": "https://localhost:8080/",
     "height": 521
    },
    "id": "xyC9zolEZNRQ",
    "outputId": "12a909a1-62d0-45dd-f0f6-2620314a3c87"
   },
   "outputs": [
    {
     "data": {
      "image/png": "[encoded data removed]",
      "text/plain": [
       "<Figure size 640x480 with 2 Axes>"
      ]
     },
     "metadata": {},
     "output_type": "display_data"
    }
   ],
   "source": [
    "# Correlation Heatmap visualization code\n",
    "#correlation\n",
    "correlation = df.corr(numeric_only=True)\n",
    "sns.heatmap(correlation, annot=True, cmap='coolwarm')\n",
    "plt.title(\"Correlation Heatmap\")\n",
    "plt.show()\n"
   ]
  },
  {
   "cell_type": "markdown",
   "metadata": {
    "id": "UV0SzAkaZNRQ"
   },
   "source": [
    "##### 1. Why did you pick the specific chart?"
   ]
  },
  {
   "cell_type": "markdown",
   "metadata": {
    "id": "DVPuT8LYZNRQ"
   },
   "source": [
    "A heatmap is ideal for visualizing the correlation between numerical variables. It uses color gradients and annotated values to quickly highlight strong or weak relationships, making it easy to spot which features may influence each other in the dataset."
   ]
  },
  {
   "cell_type": "markdown",
   "metadata": {
    "id": "YPEH6qLeZNRQ"
   },
   "source": [
    "##### 2. What is/are the insight(s) found from the chart?"
   ]
  },
  {
   "cell_type": "markdown",
   "metadata": {
    "id": "bfSqtnDqZNRR"
   },
   "source": [
    "The heatmap shows that most numerical variables in the dataset have weak or no strong correlations with each other. This suggests that no single numerical factor dominates the outcomes, and the dataset is more influenced by categorical variables, such as treatment, gender, or benefits.\n"
   ]
  },
  {
   "cell_type": "markdown",
   "metadata": {
    "id": "q29F0dvdveiT"
   },
   "source": [
    "#### Chart - 15 - Pair Plot"
   ]
  },
  {
   "cell_type": "code",
   "execution_count": 59,
   "metadata": {
    "id": "o58-TEIhveiU"
   },
   "outputs": [],
   "source": [
    "# Pair Plot visualization code"
   ]
  },
  {
   "cell_type": "markdown",
   "metadata": {
    "id": "EXh0U9oCveiU"
   },
   "source": [
    "##### 1. Why did you pick the specific chart?"
   ]
  },
  {
   "cell_type": "markdown",
   "metadata": {
    "id": "eMmPjTByveiU"
   },
   "source": [
    "Answer Here."
   ]
  },
  {
   "cell_type": "markdown",
   "metadata": {
    "id": "22aHeOlLveiV"
   },
   "source": [
    "##### 2. What is/are the insight(s) found from the chart?"
   ]
  },
  {
   "cell_type": "markdown",
   "metadata": {
    "id": "uPQ8RGwHveiV"
   },
   "source": [
    "Answer Here"
   ]
  },
  {
   "cell_type": "markdown",
   "metadata": {
    "id": "JcMwzZxoAimU"
   },
   "source": [
    "## **5. Solution to Business Objective**"
   ]
  },
  {
   "cell_type": "markdown",
   "metadata": {
    "id": "8G2x9gOozGDZ"
   },
   "source": [
    "#### What do you suggest the client to achieve Business Objective ?\n",
    "Implement and Clearly Communicate Mental Health Benefits\n",
    "The analysis shows that employees with access to mental health benefits are more likely to seek treatment. Companies should offer comprehensive mental health benefits and ensure employees are well-informed about them.\n",
    "\n",
    "Foster an Open and Supportive Workplace Culture\n",
    "Fear of negative consequences prevents many from discussing mental health. Encourage open dialogue through training, awareness programs, and regular check-ins, especially with direct supervisors.\n",
    "\n",
    "Train Supervisors for Mental Health Sensitivity\n",
    "Employees who are comfortable talking to their supervisors are more likely to seek help. Provide managers with mental health first-aid training so they can support employees without judgment or bias."
   ]
  },
  {
   "cell_type": "markdown",
   "metadata": {
    "id": "gCX9965dhzqZ"
   },
   "source": [
    "# **Conclusion**"
   ]
  },
  {
   "cell_type": "markdown",
   "metadata": {
    "id": "Fjb1IsQkh3yE"
   },
   "source": [
    "The analysis of the Mental Health in Tech survey reveals that mental health remains a critical but often overlooked aspect of workplace well-being, especially in the tech industry. Key factors such as family history, work interference, supervisor support, and access to mental health benefits significantly influence whether employees seek treatment."
   ]
  },
  {
   "cell_type": "markdown",
   "metadata": {
    "id": "gIfDvo9L0UH2"
   },
   "source": [
    "### ***Hurrah! You have successfully completed your EDA Capstone Project !!!***"
   ]
  },
  {
   "cell_type": "code",
   "execution_count": 59,
   "metadata": {
    "id": "dYX880etpL0x"
   },
   "outputs": [],
   "source": []
  },
  {
   "cell_type": "code",
   "execution_count": 59,
   "metadata": {
    "id": "-6Vl263upPVI"
   },
   "outputs": [],
   "source": []
  }
 ],
 "metadata": {
  "colab": {
   "collapsed_sections": [
    "vncDsAP0Gaoa",
    "FJNUwmbgGyua",
    "w6K7xa23Elo4",
    "yQaldy8SH6Dl",
    "PH-0ReGfmX4f",
    "mDgbUHAGgjLW",
    "O_i_v8NEhb9l",
    "HhfV-JJviCcP",
    "Y3lxredqlCYt",
    "3RnN4peoiCZX",
    "x71ZqKXriCWQ",
    "7hBIi_osiCS2",
    "JlHwYmJAmNHm",
    "35m5QtbWiB9F",
    "PoPl-ycgm1ru",
    "H0kj-8xxnORC",
    "nA9Y7ga8ng1Z",
    "PBTbrJXOngz2",
    "u3PMJOP6ngxN",
    "dauF4eBmngu3",
    "bKJF3rekwFvQ",
    "MSa1f5Uengrz",
    "GF8Ens_Soomf",
    "0wOQAZs5pc--",
    "K5QZ13OEpz2H",
    "lQ7QKXXCp7Bj",
    "448CDAPjqfQr",
    "KSlN3yHqYklG",
    "t6dVpIINYklI",
    "ijmpgYnKYklI",
    "-JiQyfWJYklI",
    "EM7whBJCYoAo",
    "fge-S5ZAYoAp",
    "85gYPyotYoAp",
    "RoGjAbkUYoAp",
    "4Of9eVA-YrdM",
    "iky9q4vBYrdO",
    "F6T5p64dYrdO",
    "y-Ehk30pYrdP",
    "bamQiAODYuh1",
    "QHF8YVU7Yuh3",
    "GwzvFGzlYuh3",
    "qYpmQ266Yuh3",
    "OH-pJp9IphqM",
    "bbFf2-_FphqN",
    "_ouA3fa0phqN",
    "Seke61FWphqN",
    "PIIx-8_IphqN",
    "t27r6nlMphqO",
    "r2jJGEOYphqO",
    "b0JNsNcRphqO",
    "BZR9WyysphqO",
    "jj7wYXLtphqO",
    "eZrbJ2SmphqO",
    "rFu4xreNphqO",
    "YJ55k-q6phqO",
    "gCFgpxoyphqP",
    "OVtJsKN_phqQ",
    "lssrdh5qphqQ",
    "U2RJ9gkRphqQ",
    "1M8mcRywphqQ",
    "tgIPom80phqQ",
    "JMzcOPDDphqR",
    "x-EpHcCOp1ci",
    "X_VqEhTip1ck",
    "8zGJKyg5p1ck",
    "PVzmfK_Ep1ck",
    "n3dbpmDWp1ck",
    "ylSl6qgtp1ck",
    "ZWILFDl5p1ck",
    "M7G43BXep1ck",
    "Ag9LCva-p1cl",
    "E6MkPsBcp1cl",
    "2cELzS2fp1cl",
    "3MPXvC8up1cl",
    "NC_X3p0fY2L0",
    "UV0SzAkaZNRQ",
    "YPEH6qLeZNRQ",
    "q29F0dvdveiT",
    "EXh0U9oCveiU",
    "22aHeOlLveiV",
    "JcMwzZxoAimU",
    "8G2x9gOozGDZ",
    "gCX9965dhzqZ",
    "gIfDvo9L0UH2"
   ],
   "provenance": []
  },
  "kernelspec": {
   "display_name": "Python [conda env:base] *",
   "language": "python",
   "name": "conda-base-py"
  },
  "language_info": {
   "codemirror_mode": {
    "name": "ipython",
    "version": 3
   },
   "file_extension": ".py",
   "mimetype": "text/x-python",
   "name": "python",
   "nbconvert_exporter": "python",
   "pygments_lexer": "ipython3",
   "version": "3.12.7"
  }
 },
 "nbformat": 4,
 "nbformat_minor": 4
}
